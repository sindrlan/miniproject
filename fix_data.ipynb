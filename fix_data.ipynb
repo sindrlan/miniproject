{
 "cells": [
  {
   "cell_type": "code",
   "execution_count": 11,
   "metadata": {},
   "outputs": [
    {
     "name": "stdout",
     "output_type": "stream",
     "text": [
      "count imaged used: 1072\r\n",
      "D00: 988\r\n",
      "D10: 399\r\n",
      "D20: 161\r\n",
      "D40: 197\r\n"
     ]
    }
   ],
   "source": [
    "%rm -R test2/annontations\n",
    "!python convert_voc_to_yolo.py \"/cluster/projects/vc/courses/TDT17/2022/open/RDD2022/Czech/train/annotations/xmls/\" \"test2/annontations\""
   ]
  },
  {
   "cell_type": "code",
   "execution_count": 36,
   "metadata": {},
   "outputs": [],
   "source": [
    "import os\n",
    "import random\n",
    "import shutil\n",
    "\n",
    "path = \"data/annontations/\"\n",
    "dir_list = os.listdir(path)\n",
    "\n",
    "dir_list.sort()\n",
    "random.seed(230)\n",
    "random.shuffle(dir_list)\n",
    "\n",
    "split = int(0.75 * len(dir_list))\n",
    "\n",
    "train = dir_list[:split]\n",
    "val = dir_list[split:]"
   ]
  },
  {
   "cell_type": "code",
   "execution_count": 37,
   "metadata": {},
   "outputs": [],
   "source": [
    "os.makedirs('data/train/images')\n",
    "os.makedirs('data/val/images')\n",
    "os.makedirs('data/train/labels')\n",
    "os.makedirs('data/val/labels')"
   ]
  },
  {
   "cell_type": "code",
   "execution_count": 38,
   "metadata": {},
   "outputs": [],
   "source": [
    "for names in val:\n",
    "    shutil.copyfile(\"data/annontations/\" + names, \"data/val/labels/\" + names)\n",
    "    x = names.split(\".\", 1)[0]\n",
    "    y = names.split(\"_\", 1)[0]\n",
    "    if y == \"Norway\":\n",
    "        shutil.copyfile(\"/cluster/projects/vc/courses/TDT17/2022/open/RDD2022/Norway/train/images/\" + x + \".jpg\", \"data/val/images/\" + x + \".jpg\")\n",
    "    else:\n",
    "        shutil.copyfile(\"/cluster/projects/vc/courses/TDT17/2022/open/RDD2022/Japan/train/images/\" + x + \".jpg\", \"data/val/images/\" + x + \".jpg\")"
   ]
  },
  {
   "cell_type": "code",
   "execution_count": 39,
   "metadata": {},
   "outputs": [],
   "source": [
    "for names in train:\n",
    "    shutil.copyfile(\"data/annontations/\" + names, \"data/train/labels/\" + names)\n",
    "    x = names.split(\".\", 1)[0]\n",
    "    y = names.split(\"_\", 1)[0]\n",
    "    if y == \"Norway\":\n",
    "        shutil.copyfile(\"/cluster/projects/vc/courses/TDT17/2022/open/RDD2022/Norway/train/images/\" + x + \".jpg\", \"data/train/images/\" + x + \".jpg\")\n",
    "    else:\n",
    "        shutil.copyfile(\"/cluster/projects/vc/courses/TDT17/2022/open/RDD2022/Japan/train/images/\" + x + \".jpg\", \"data/train/images/\" + x + \".jpg\")"
   ]
  },
  {
   "cell_type": "code",
   "execution_count": 10,
   "metadata": {},
   "outputs": [],
   "source": [
    "%rm -R \"test/annotations\""
   ]
  },
  {
   "cell_type": "code",
   "execution_count": 12,
   "metadata": {},
   "outputs": [],
   "source": [
    "!python image_cut.py"
   ]
  },
  {
   "cell_type": "code",
   "execution_count": 24,
   "metadata": {},
   "outputs": [],
   "source": [
    "cp data_all/annontations/* data_all//"
   ]
  },
  {
   "cell_type": "code",
   "execution_count": 25,
   "metadata": {},
   "outputs": [],
   "source": [
    "cp /cluster/projects/vc/courses/TDT17/2022/open/RDD2022/China_MotorBike/train/images/* data_all/train/images/"
   ]
  },
  {
   "cell_type": "code",
   "execution_count": 4,
   "metadata": {},
   "outputs": [],
   "source": [
    "%rm -R data_norway_japan/annontations"
   ]
  },
  {
   "cell_type": "code",
   "execution_count": 12,
   "metadata": {},
   "outputs": [],
   "source": [
    "import os\n",
    "import random\n",
    "import shutil\n",
    "from PIL import Image\n",
    "\n",
    "path = \"/cluster/projects/vc/courses/TDT17/2022/open/RDD2022/Norway/test/images/\"\n",
    "dir_list = os.listdir(path)\n",
    "\n",
    "for names in dir_list:\n",
    "    imagepath = \"/cluster/projects/vc/courses/TDT17/2022/open/RDD2022/Norway/test/images/\" + names\n",
    "    im = Image.open(imagepath)\n",
    "\n",
    "    width, height = im.size\n",
    "    im1 = im.crop((2044, 0, width, height))\n",
    "    im1.save(\"test2/\" + names)"
   ]
  },
  {
   "cell_type": "code",
   "execution_count": 20,
   "metadata": {},
   "outputs": [],
   "source": [
    "cp data_norway_japan_usa/annontations/* data_norway_japan_usa/train/labels/"
   ]
  },
  {
   "cell_type": "code",
   "execution_count": 21,
   "metadata": {},
   "outputs": [],
   "source": [
    "%rm -R data_norway_japan_usa/annontations"
   ]
  },
  {
   "cell_type": "code",
   "execution_count": null,
   "metadata": {},
   "outputs": [],
   "source": []
  }
 ],
 "metadata": {
  "kernelspec": {
   "display_name": "Python 3",
   "language": "python",
   "name": "python3"
  },
  "language_info": {
   "codemirror_mode": {
    "name": "ipython",
    "version": 3
   },
   "file_extension": ".py",
   "mimetype": "text/x-python",
   "name": "python",
   "nbconvert_exporter": "python",
   "pygments_lexer": "ipython3",
   "version": "3.8.3"
  }
 },
 "nbformat": 4,
 "nbformat_minor": 4
}
