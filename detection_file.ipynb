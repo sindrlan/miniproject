{
 "cells": [
  {
   "cell_type": "code",
   "execution_count": 21,
   "metadata": {},
   "outputs": [],
   "source": [
    "import os\n",
    "import random\n",
    "import shutil\n",
    "\n",
    "path = \"yolov7/runs/detect/exp8/labels\"\n",
    "dir_list = os.listdir(path)\n",
    "\n",
    "file = open(\"detect.txt\", \"w\")\n",
    "\n",
    "for names in dir_list:\n",
    "    x = names.split(\".\", 1)[0]\n",
    "    file.write(x + \".jpg,\")\n",
    "    with open(\"yolov7/runs/detect/exp8/labels/\" + names) as f:\n",
    "        lines = f.readlines()\n",
    "        for line in lines:\n",
    "            file.write(line.strip() + \" \")\n",
    "        file.write(\"\\n\")\n",
    "file.close()"
   ]
  },
  {
   "cell_type": "code",
   "execution_count": 4,
   "metadata": {},
   "outputs": [],
   "source": [
    "import os\n",
    "import random\n",
    "import shutil\n",
    "\n",
    "file = open(\"detect.txt\", \"w\")\n",
    "\n",
    "with open(\"yolov7/runs/detect/exp46/detect.txt\") as f:\n",
    "    lines = f.readlines()\n",
    "    for line in lines:\n",
    "        file.write(line.strip() + \" \")\n",
    "    file.write(\"\\n\")\n",
    "file.close()"
   ]
  },
  {
   "cell_type": "code",
   "execution_count": 6,
   "metadata": {},
   "outputs": [],
   "source": [
    "combine =[]\n",
    "\n",
    "with open(\"yolov7/runs/detect/exp55/detect.txt\") as xh:\n",
    "  with open(\"yolov7/runs/detect/exp46/detect.txt\") as yh:\n",
    "    with open(\"z.txt\",\"w\") as zh:\n",
    "      #Read first file\n",
    "      xlines = xh.readlines()\n",
    "      #Read second file\n",
    "      ylines = yh.readlines()\n",
    "      #Combine content of both lists\n",
    "      #combine = list(zip(ylines,xlines))\n",
    "      #Write to third file\n",
    "      for i in range(len(xlines)):\n",
    "        line = ylines[i].strip() + ' ' + xlines[i]\n",
    "        zh.write(line)"
   ]
  },
  {
   "cell_type": "code",
   "execution_count": null,
   "metadata": {},
   "outputs": [],
   "source": []
  }
 ],
 "metadata": {
  "kernelspec": {
   "display_name": "Python 3",
   "language": "python",
   "name": "python3"
  },
  "language_info": {
   "codemirror_mode": {
    "name": "ipython",
    "version": 3
   },
   "file_extension": ".py",
   "mimetype": "text/x-python",
   "name": "python",
   "nbconvert_exporter": "python",
   "pygments_lexer": "ipython3",
   "version": "3.8.3"
  }
 },
 "nbformat": 4,
 "nbformat_minor": 4
}
