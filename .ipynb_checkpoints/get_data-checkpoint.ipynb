{
 "cells": [
  {
   "cell_type": "code",
   "execution_count": null,
   "metadata": {},
   "outputs": [],
   "source": [
    "import os\n",
    "os.makedirs('Data')\n",
    "!python convert_voc_to_yolo.py \"China/train/annotations/xmls/\" \"Data/annotations\" \"China/train/images/\""
   ]
  },
  {
   "cell_type": "code",
   "execution_count": null,
   "metadata": {},
   "outputs": [],
   "source": [
    "import os\n",
    "import random\n",
    "import shutil\n",
    "\n",
    "path = \"Data/annotations/\"\n",
    "dir_list = os.listdir(path)\n",
    "\n",
    "dir_list.sort()\n",
    "random.seed(230)\n",
    "random.shuffle(dir_list)\n",
    "\n",
    "split = int(0.75 * len(dir_list))\n",
    "\n",
    "train = dir_list[:split]\n",
    "val = dir_list[split:]"
   ]
  },
  {
   "cell_type": "code",
   "execution_count": null,
   "metadata": {},
   "outputs": [],
   "source": [
    "os.makedirs('Data/train/images')\n",
    "os.makedirs('Data/val/images')\n",
    "os.makedirs('Data/train/annotations')\n",
    "os.makedirs('Data/val/annotations')"
   ]
  },
  {
   "cell_type": "code",
   "execution_count": null,
   "metadata": {},
   "outputs": [],
   "source": [
    "for names in val:\n",
    "    shutil.copyfile(\"Data/annotations/\" + names, \"Data/val/annotations/\" + names)\n",
    "    x = names.split(\".\", 1)[0]\n",
    "    shutil.copyfile(\"China/train/images/\" + x + \".jpg\", \"Data/val/images/\" + x + \".jpg\")"
   ]
  },
  {
   "cell_type": "code",
   "execution_count": null,
   "metadata": {},
   "outputs": [],
   "source": [
    "for names in train:\n",
    "    shutil.copyfile(\"Data/annotations/\" + names, \"Data/train/annotations/\" + names)\n",
    "    x = names.split(\".\", 1)[0]\n",
    "    shutil.copyfile(\"China/train/images/\" + x + \".jpg\", \"Data/train/images/\" + x + \".jpg\")"
   ]
  },
  {
   "cell_type": "code",
   "execution_count": null,
   "metadata": {},
   "outputs": [],
   "source": [
    "%rm -r Data/annotations"
   ]
  }
 ],
 "metadata": {
  "kernelspec": {
   "display_name": "Python 3",
   "language": "python",
   "name": "python3"
  },
  "language_info": {
   "codemirror_mode": {
    "name": "ipython",
    "version": 3
   },
   "file_extension": ".py",
   "mimetype": "text/x-python",
   "name": "python",
   "nbconvert_exporter": "python",
   "pygments_lexer": "ipython3",
   "version": "3.8.3"
  }
 },
 "nbformat": 4,
 "nbformat_minor": 4
}
